{
 "cells": [
  {
   "cell_type": "code",
   "execution_count": 1,
   "id": "47f2fe7a-e07a-4092-bc00-2356816169b8",
   "metadata": {},
   "outputs": [],
   "source": [
    "# ZADANIE 1"
   ]
  },
  {
   "cell_type": "code",
   "execution_count": 2,
   "id": "a3f7ac06-4189-4ca9-bea4-d062bb2f548c",
   "metadata": {},
   "outputs": [],
   "source": [
    "# Zaimplementuj funkcję suma()\n",
    "\n",
    "# DANE:\n",
    "# (xy)H, (uv)H \\in F(2^8)   - dwie liczby dwucyfrowe w zapisie szesnastkowym\n",
    "\n",
    "# WYNIK:\n",
    "# (x'y')H \\in F(2^8), gdzie (x'y')H = (xy)H + (uv)H   - jedna liczba dwucyfrowa w zapisie szesnastkowym\n",
    "\n",
    "# Dodatkowe założenia:\n",
    "\n",
    "# Zapis binarny liczby traktujemy jak parametry wielomianu stopnia siódmego tzn. \n",
    "# tzn. 10000000 = 1*x^7 + 0*x^6 + ... + 0*x^1 + 0*x^0. \n",
    "\n",
    "# Ciało działa na każdy ze stopni wielomianu osobno \n",
    "# tj. 1*x^5 + 1*x^5 = 0*x^5 w F2 A NIE 1*x^6 (nie ma przeniesienia)"
   ]
  },
  {
   "cell_type": "code",
   "execution_count": 3,
   "id": "781523fe-2ec0-42cc-888b-900d0487b32a",
   "metadata": {},
   "outputs": [],
   "source": [
    "# Hex to 8-bit bin\n",
    "\n",
    "def hex2bin(a):\n",
    "    return str(bin(int(a, base=16))[2:].zfill(8))\n",
    "\n",
    "# Bin to nice hex\n",
    "\n",
    "def bin2hex(a):\n",
    "    return format( (int(a, 2) ), 'x').zfill(2)\n"
   ]
  },
  {
   "cell_type": "code",
   "execution_count": 4,
   "id": "54faa21c-1290-45d6-8aa6-de0c8d7c037c",
   "metadata": {},
   "outputs": [],
   "source": [
    "def binary_sum(a_bin, b_bin):\n",
    "    \n",
    "    c_bin = \"\"\n",
    "    \n",
    "    for i in range(len(a_bin)):\n",
    "        c_bin = c_bin + str((int(a_bin[i]) + int(b_bin[i])) %2)\n",
    "        \n",
    "    return c_bin"
   ]
  },
  {
   "cell_type": "code",
   "execution_count": 5,
   "id": "8994fcb9-4340-4602-9303-2f2d98968e32",
   "metadata": {},
   "outputs": [],
   "source": [
    "def suma(a, b):\n",
    "    return bin2hex( binary_sum( hex2bin(a), hex2bin(b) ) )"
   ]
  },
  {
   "cell_type": "code",
   "execution_count": 6,
   "id": "12c624bb-c573-4446-a9dd-9808fd25ff45",
   "metadata": {},
   "outputs": [
    {
     "data": {
      "text/plain": [
       "'11'"
      ]
     },
     "execution_count": 6,
     "metadata": {},
     "output_type": "execute_result"
    }
   ],
   "source": [
    "a = \"aa\"\n",
    "b = \"bb\"\n",
    "\n",
    "suma(a, b)"
   ]
  },
  {
   "cell_type": "code",
   "execution_count": 7,
   "id": "ab04c17b-0a8d-4d7a-851c-2599172f3e5e",
   "metadata": {},
   "outputs": [
    {
     "name": "stdout",
     "output_type": "stream",
     "text": [
      "True\n",
      "True\n",
      "True\n"
     ]
    }
   ],
   "source": [
    "# # TESTY 1\n",
    "\n",
    "# # Wejście:\n",
    "# a = \"25\"\n",
    "# b = \"e1\"\n",
    "# # Wyjście:\n",
    "# print(suma(a, b) == \"c4\")\n",
    "\n",
    "# # Wejście:\n",
    "# a = \"00\"\n",
    "# b = \"ff\"\n",
    "# # Wyjście:\n",
    "# print( suma(a, b) == \"ff\")\n",
    "\n",
    "# # Wejście:\n",
    "# a = \"aa\"\n",
    "# b = \"bb\"\n",
    "# # Wyjście:\n",
    "# print(suma(a, b) == \"11\")\n"
   ]
  },
  {
   "cell_type": "code",
   "execution_count": 8,
   "id": "004974f2-8708-42dc-a2e0-89b1c01775fe",
   "metadata": {},
   "outputs": [],
   "source": [
    "# Zadanie 2"
   ]
  },
  {
   "cell_type": "code",
   "execution_count": 9,
   "id": "05d9adf3-d2e9-4c2d-b17f-fd9461040779",
   "metadata": {},
   "outputs": [],
   "source": [
    "# Zaimplementuj funkcje xtime()\n",
    "\n",
    "# Dane: (xy)H 2 F2^8\n",
    "\n",
    "# Wynik: (x'y')H 2 F2^8 , gdzie (x'y')H = (xy)H \u0001 (02)H."
   ]
  },
  {
   "cell_type": "code",
   "execution_count": 10,
   "id": "822a4a8b-8733-4eaa-91a9-6840404a9e11",
   "metadata": {},
   "outputs": [],
   "source": [
    "def xtime(a_bin):\n",
    "    overflow_const = \"00011011\"\n",
    "    result = 8 * '0'\n",
    "    \n",
    "    \n",
    "# Offset\n",
    "    a_bin = a_bin + '0'\n",
    "    \n",
    "# Check overflow and adjust length to 8\n",
    "    overflow_flag = a_bin[0]\n",
    "    a_bin = a_bin[1:]    \n",
    "    \n",
    "# Add overflow\n",
    "    if(overflow_flag == '1'):\n",
    "        result = binary_sum(a_bin, overflow_const)\n",
    "    else:\n",
    "        result = a_bin\n",
    "    \n",
    "    return result"
   ]
  },
  {
   "cell_type": "code",
   "execution_count": 11,
   "id": "fe981da6-af4c-49f8-b370-d9d3a5cbd813",
   "metadata": {},
   "outputs": [
    {
     "data": {
      "text/plain": [
       "'f0'"
      ]
     },
     "execution_count": 11,
     "metadata": {},
     "output_type": "execute_result"
    }
   ],
   "source": [
    "# F8 => EB\n",
    "\n",
    "a = \"78\"\n",
    "\n",
    "bin2hex( xtime(hex2bin(a)) )"
   ]
  },
  {
   "cell_type": "code",
   "execution_count": 12,
   "id": "536cfb27-b952-446e-a01b-a66c5738b8da",
   "metadata": {},
   "outputs": [
    {
     "name": "stdout",
     "output_type": "stream",
     "text": [
      "True\n",
      "True\n",
      "True\n"
     ]
    }
   ],
   "source": [
    "# # TESTY 2\n",
    "\n",
    "# # Wejście:\n",
    "# a = \"78\"\n",
    "# # Wyjście:\n",
    "# print(bin2hex( xtime(hex2bin(a)) ) == \"f0\")\n",
    "\n",
    "# # Wejście:\n",
    "# a = \"cb\"\n",
    "# # Wyjście:\n",
    "# print(bin2hex( xtime(hex2bin(a)) ) == \"8d\")\n",
    "\n",
    "# # Wejście:\n",
    "# a = \"f3\"\n",
    "# # Wyjście:\n",
    "# print(bin2hex( xtime(hex2bin(a)) ) ==\"fd\")"
   ]
  },
  {
   "cell_type": "code",
   "execution_count": 13,
   "id": "136b8b60-b509-49f0-98f5-b49d56540e6a",
   "metadata": {},
   "outputs": [],
   "source": [
    "# Zadanie 3"
   ]
  },
  {
   "cell_type": "code",
   "execution_count": 14,
   "id": "a7480833-32f9-4e0f-b894-71c578779bde",
   "metadata": {},
   "outputs": [],
   "source": [
    "# Zaimplementuj funkcje iloczyn()\n",
    "\n",
    "# Dane: (xy)H; (uw)H 2 F28\n",
    "\n",
    "# Wynik: (x'y')H 2 F2^8 , gdzie (x'y')H = (xy)H \u0001 (uw)H."
   ]
  },
  {
   "cell_type": "code",
   "execution_count": 38,
   "id": "502e0be6-d15c-4211-9a80-4e71f0d3c129",
   "metadata": {},
   "outputs": [],
   "source": [
    "def iloczyn(a, b):\n",
    "    \n",
    "    result = 8 * '0'\n",
    "    \n",
    "    while(len(b) > 0):\n",
    "        \n",
    "        # print(\"a: \", a, \"b: \", b, \"result: \", result)\n",
    "        \n",
    "        if b[-1] == \"1\":\n",
    "            result = binary_sum(result, a)\n",
    "        \n",
    "        b = b[:-1]\n",
    "        a = xtime(a)\n",
    "    \n",
    "    return result"
   ]
  },
  {
   "cell_type": "code",
   "execution_count": 42,
   "id": "9b5741d6-87a1-45f6-9d7e-81600f815b74",
   "metadata": {},
   "outputs": [
    {
     "name": "stdout",
     "output_type": "stream",
     "text": [
      "4b\n"
     ]
    }
   ],
   "source": [
    "a = \"3a\"\n",
    "b = \"a3\"\n",
    "# result = 4b\n",
    "\n",
    "\n",
    "final_result = iloczyn(hex2bin(a), hex2bin(b))\n",
    "\n",
    "# print(final_result)\n",
    "print(bin2hex( final_result ))"
   ]
  },
  {
   "cell_type": "code",
   "execution_count": 43,
   "id": "460d63a3-b6aa-4551-b275-0558bf98030f",
   "metadata": {},
   "outputs": [
    {
     "name": "stdout",
     "output_type": "stream",
     "text": [
      "True\n",
      "True\n",
      "True\n",
      "True\n"
     ]
    }
   ],
   "source": [
    "# # TESTY 3\n",
    "\n",
    "\n",
    "# # Wejście:\n",
    "# a = \"aa\"\n",
    "# b = \"bb\"\n",
    "# # Wyjście:\n",
    "# print(bin2hex( iloczyn(hex2bin(a), hex2bin(b)) ) == \"56\")\n",
    "\n",
    "# # Wejście:\n",
    "# a = \"90\"\n",
    "# b = \"32\"\n",
    "# # Wyjście:\n",
    "# print(bin2hex( iloczyn(hex2bin(a), hex2bin(b)) ) == \"65\")\n",
    "\n",
    "# # Wejście:\n",
    "# a = \"f5\"\n",
    "# b = \"00\"\n",
    "# # Wyjście:\n",
    "# print(bin2hex( iloczyn(hex2bin(a), hex2bin(b)) ) ==\"00\")\n",
    "\n",
    "# # Wejście:\n",
    "# a = \"3a\"\n",
    "# b = \"a3\"\n",
    "# # Wyjście:\n",
    "# print(bin2hex( iloczyn(hex2bin(a), hex2bin(b)) ) == \"4b\")"
   ]
  },
  {
   "cell_type": "code",
   "execution_count": 26,
   "id": "86a74ffd-c095-471c-b6b8-0df1ad312165",
   "metadata": {},
   "outputs": [],
   "source": [
    "# Zadanie 4"
   ]
  },
  {
   "cell_type": "code",
   "execution_count": 54,
   "id": "a591c81d-2163-4b86-b4ca-605ac6a6395e",
   "metadata": {},
   "outputs": [],
   "source": [
    "# Zaimplementuj funkcje odwrotnosc()\n",
    "\n",
    "# Dane: (xy)H 2 F28\n",
    "\n",
    "# Wynik: (uw)H 2 F28 , gdzie (xy)H \u0001 (uw)H = (01)H.\n",
    "\n",
    "# METODA: (g)-1 == g^254"
   ]
  },
  {
   "cell_type": "code",
   "execution_count": 82,
   "id": "f6a7888c-7142-4883-aa59-1391364ce0c8",
   "metadata": {},
   "outputs": [],
   "source": [
    "def odwrotnosc(a):\n",
    "    var_254 = '11111110'\n",
    "    \n",
    "    result = 7 * '0'+ '1'\n",
    "    \n",
    "    while len(var_254) > 0:\n",
    "                \n",
    "        if(var_254[-1] == \"1\"):\n",
    "            result = iloczyn(result, a)\n",
    "        \n",
    "        a = iloczyn(a, a)\n",
    "        var_254 = var_254[:-1]\n",
    "        \n",
    "    return bin2hex(result)"
   ]
  },
  {
   "cell_type": "code",
   "execution_count": 83,
   "id": "8c05e513-97ba-4b52-b769-96acf955e153",
   "metadata": {},
   "outputs": [
    {
     "name": "stdout",
     "output_type": "stream",
     "text": [
      "01\n"
     ]
    }
   ],
   "source": [
    "a = '01'\n",
    "\n",
    "print(odwrotnosc(hex2bin(a)))"
   ]
  },
  {
   "cell_type": "code",
   "execution_count": 84,
   "id": "400844c8-2702-4a7f-99f0-c37c6ba4456c",
   "metadata": {},
   "outputs": [
    {
     "name": "stdout",
     "output_type": "stream",
     "text": [
      "True\n",
      "True\n",
      "True\n",
      "False\n"
     ]
    }
   ],
   "source": [
    "# # TESTY 4\n",
    "\n",
    "# # Wejście:\n",
    "# a = \"02\"\n",
    "# # Wyjście:\n",
    "# print(odwrotnosc(hex2bin(a)) == \"8d\")\n",
    "\n",
    "# # Wejście:\n",
    "# a = \"b0\"\n",
    "# # Wyjście:\n",
    "# print(odwrotnosc(hex2bin(a)) == \"0c\")\n",
    "\n",
    "# # Wejście:\n",
    "# a = \"ee\"\n",
    "# # Wyjście:\n",
    "# print(odwrotnosc(hex2bin(a)) == \"1e\")\n",
    "\n",
    "# # Wejście:\n",
    "# a = \"00\"\n",
    "# # Wyjście:\n",
    "# print(odwrotnosc(hex2bin(a)) == \"undefined\")"
   ]
  },
  {
   "cell_type": "code",
   "execution_count": null,
   "id": "8ca90972-6687-4755-882c-7821336fbde9",
   "metadata": {},
   "outputs": [],
   "source": []
  },
  {
   "cell_type": "code",
   "execution_count": null,
   "id": "3857c87c-accb-49a0-b5f7-38a6c61fc334",
   "metadata": {},
   "outputs": [],
   "source": []
  },
  {
   "cell_type": "code",
   "execution_count": null,
   "id": "14f4b2e3-347e-4a36-a7b3-19cfe4bb8c77",
   "metadata": {},
   "outputs": [],
   "source": []
  }
 ],
 "metadata": {
  "kernelspec": {
   "display_name": "Python 3 (ipykernel)",
   "language": "python",
   "name": "python3"
  },
  "language_info": {
   "codemirror_mode": {
    "name": "ipython",
    "version": 3
   },
   "file_extension": ".py",
   "mimetype": "text/x-python",
   "name": "python",
   "nbconvert_exporter": "python",
   "pygments_lexer": "ipython3",
   "version": "3.9.2"
  }
 },
 "nbformat": 4,
 "nbformat_minor": 5
}
