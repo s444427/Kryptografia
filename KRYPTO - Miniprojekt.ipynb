{
 "cells": [
  {
   "cell_type": "code",
   "execution_count": 1,
   "id": "1dfd382e-7e10-45ec-8327-aba8f034f94e",
   "metadata": {},
   "outputs": [],
   "source": [
    "# ZADANIE 1"
   ]
  },
  {
   "cell_type": "code",
   "execution_count": 2,
   "id": "5d391a67-779c-46ff-b66b-68829abe6054",
   "metadata": {},
   "outputs": [],
   "source": [
    "#Algorytm obliczania odwrotności w grupie phi(n) z wykorzystaniem złożonego algorytmu Euklidesa"
   ]
  },
  {
   "cell_type": "code",
   "execution_count": 3,
   "id": "f69804da-4e7a-4a3d-be90-306f9fd1dc98",
   "metadata": {},
   "outputs": [],
   "source": [
    "import math"
   ]
  },
  {
   "cell_type": "code",
   "execution_count": 4,
   "id": "55fc97fa-735d-4963-9ebd-93d14b91652f",
   "metadata": {},
   "outputs": [],
   "source": [
    "def NWD(n,b):\n",
    "    q_tab = []\n",
    "    r = 0\n",
    "    q = 0\n",
    "    \n",
    "    while b!=0:\n",
    "        q = n//b\n",
    "        r = n%b\n",
    "        \n",
    "        n=b\n",
    "        b=r\n",
    "        q_tab.append(q)\n",
    "    return n, q_tab"
   ]
  },
  {
   "cell_type": "code",
   "execution_count": 5,
   "id": "8502a747-f56b-4668-adb7-65597e8f20d6",
   "metadata": {},
   "outputs": [],
   "source": [
    "def NWD_phi(q_tab):\n",
    "    x=0\n",
    "    y=1\n",
    "    x_new=0\n",
    "    y_new=0\n",
    "    \n",
    "    for i in q_tab:\n",
    "        x_new=y\n",
    "        y_new=x-y*i\n",
    "        \n",
    "        x=x_new\n",
    "        y=y_new\n",
    "    return x"
   ]
  },
  {
   "cell_type": "code",
   "execution_count": 6,
   "id": "97384a56-6d75-45c7-b3cd-34111c576fde",
   "metadata": {},
   "outputs": [],
   "source": [
    "def odwrotnosc(n,b):\n",
    "    nwd, q = NWD(n,b)\n",
    "    return NWD_phi(q)\n",
    "    "
   ]
  },
  {
   "cell_type": "code",
   "execution_count": 7,
   "id": "b4b2f570-35e8-42db-90c8-1de2702e49b2",
   "metadata": {},
   "outputs": [
    {
     "name": "stdout",
     "output_type": "stream",
     "text": [
      "357913940\n"
     ]
    }
   ],
   "source": [
    "n=2**30 - 5\n",
    "b=3\n",
    "print(odwrotnosc(n,b))"
   ]
  },
  {
   "cell_type": "code",
   "execution_count": 8,
   "id": "43bc2d69-46b0-404f-8334-3dd46ee31892",
   "metadata": {},
   "outputs": [],
   "source": [
    "# ZADANIE 2"
   ]
  },
  {
   "cell_type": "code",
   "execution_count": 9,
   "id": "213f24f4-40c6-4b7f-b8ee-d059cdd13c44",
   "metadata": {},
   "outputs": [],
   "source": [
    "# Efektywne potęgowanie w (Zn, *)\n",
    "\n",
    "# dane:\n",
    "# n in N - wyznacznik świata Z\n",
    "# k in N - wykładnik potęgi\n",
    "# b in (Zn, *) - podstawa potęgi\n",
    "\n",
    "# wynik: b^k in (Zn, *)\n",
    "\n",
    "# I - tworzymy bazę potęg a^(2^i)\n",
    "# II - rozpisujemy k binarnie\n",
    "# III - wykonujemy mnożenie wielokrotne"
   ]
  },
  {
   "cell_type": "code",
   "execution_count": 10,
   "id": "551b94f9-dc7e-44a8-b652-cfd4d0286db5",
   "metadata": {},
   "outputs": [],
   "source": [
    "#    II - zapisujemy k binarnie\n",
    "\n",
    "def zapis_binarny(k):\n",
    "    compare = k\n",
    "    sollution = \"\"\n",
    "    sign = 0\n",
    "    \n",
    "    while k > 0:\n",
    "        sign = k % 2\n",
    "        k=k//2\n",
    "        \n",
    "        sollution = sollution + str(sign)\n",
    "        \n",
    "    r = len(sollution)\n",
    "    \n",
    "    return sollution, r"
   ]
  },
  {
   "cell_type": "code",
   "execution_count": 11,
   "id": "0e27728c-2830-47d2-93b7-9b3a627b6fa4",
   "metadata": {},
   "outputs": [
    {
     "data": {
      "text/plain": [
       "('0001', 4)"
      ]
     },
     "execution_count": 11,
     "metadata": {},
     "output_type": "execute_result"
    }
   ],
   "source": [
    "zapis_binarny(8)"
   ]
  },
  {
   "cell_type": "code",
   "execution_count": 12,
   "id": "a9334c80-9a0b-42fa-b726-0fd339e9a384",
   "metadata": {},
   "outputs": [],
   "source": [
    "# b^k w Zn\n",
    "def potega(b, k, n):\n",
    "    # print(\"########## INPUTS ##########\")\n",
    "    # print(\"b: \", b)\n",
    "    # print(\"k: \", k)\n",
    "    # print(\"n: \", n)\n",
    "    # print(\"############################\\n\")\n",
    "    base = b\n",
    "    \n",
    "    k_str, r = zapis_binarny(k)\n",
    "    # print('k binarnie: ', k_str)\n",
    "    \n",
    "    result = 1\n",
    "    for i in range(len(k_str)):\n",
    "        if k_str[i] == '1':\n",
    "            result = (result * base) % n\n",
    "        base = base**2 % n\n",
    "\n",
    "    return(result)"
   ]
  },
  {
   "cell_type": "code",
   "execution_count": 13,
   "id": "ec6767d9-6fae-45d5-b0f5-6f173f0c1c72",
   "metadata": {
    "tags": []
   },
   "outputs": [
    {
     "name": "stdout",
     "output_type": "stream",
     "text": [
      "404294742055422617191248672231\n"
     ]
    }
   ],
   "source": [
    "# b^k w Zn\n",
    "\n",
    "# # Dane 1\n",
    "# b = 10\n",
    "# k = 3**39+1\n",
    "# n = 2**62 + 10\n",
    "# # result = 1120803652654867934\n",
    "\n",
    "# Dane 2\n",
    "b = 3\n",
    "k = 2**30\n",
    "#1073741824\n",
    "n = 2**100 - 1\n",
    "#1267650600228229401496703205375\n",
    "# result: 404294742055422617191248672231\n",
    "\n",
    "# print(\"########## INPUTS ##########\")\n",
    "# print(\"b: \", b)\n",
    "# print(\"k: \", k)\n",
    "# print(\"n: \", n)\n",
    "# print(\"############################\\n\")\n",
    "\n",
    "print(potega(b, k, n))\n"
   ]
  },
  {
   "cell_type": "code",
   "execution_count": 14,
   "id": "7a68b666-706d-4001-9517-9772c00a084d",
   "metadata": {
    "tags": []
   },
   "outputs": [],
   "source": [
    "# ZADANIE 3"
   ]
  },
  {
   "cell_type": "code",
   "execution_count": 15,
   "id": "541a0f62-4d68-40d7-844c-95fd4cf895ba",
   "metadata": {},
   "outputs": [],
   "source": [
    "# Test fermata - sprawdzenie, czy dana liczba naturalna n jest pierwsza\n",
    "\n",
    "# 1. Dane: n\n",
    "# 2. losujemy b z zakresu [0,n-1], czyli Zn\n",
    "# 3. sprawdzamy, czy NWD(b, n)=1 i b^(n-1) == 1 (mod n)\n",
    "# 4. a) Jeżeli nie, to n nie jest pierwsze\n",
    "#    b) Jeżeli tak, powtórz \"kilka\" razy () \n",
    "\n",
    "# Każda iteracja zmniejsza prawdopodobieństwo porażki o połowę"
   ]
  },
  {
   "cell_type": "code",
   "execution_count": 16,
   "id": "5bb7f690-0339-4726-a7d7-ae1f2bb4ac0f",
   "metadata": {},
   "outputs": [],
   "source": [
    "%%capture\n",
    "import random\n",
    "\n",
    "def Test_Fermata(n, k):\n",
    "\n",
    "    counter = 0\n",
    "    result = True\n",
    "    \n",
    "    \n",
    "    while counter < k and result == True:\n",
    "        \n",
    "        b = random.randint(0,n)\n",
    "\n",
    "        sample_NWD, x = NWD(n, b)\n",
    "        sample_potega = potega(b, n-1, n)\n",
    "        \n",
    "        # print(b, sample_NWD, sample_potega)\n",
    "        \n",
    "        if sample_NWD != 1 and sample_potega != 1:\n",
    "            result = False\n",
    "        else:\n",
    "            counter += 1\n",
    "        \n",
    "        \n",
    "    return result;\n",
    "    "
   ]
  },
  {
   "cell_type": "code",
   "execution_count": 17,
   "id": "cd319086-ad5e-4954-adbc-213c9e22815d",
   "metadata": {},
   "outputs": [
    {
     "data": {
      "text/plain": [
       "True"
      ]
     },
     "execution_count": 17,
     "metadata": {},
     "output_type": "execute_result"
    }
   ],
   "source": [
    "n = 2**(33) - 21\n",
    "# Liczba testów\n",
    "k = 100\n",
    "\n",
    "Test_Fermata(n, k)"
   ]
  },
  {
   "cell_type": "code",
   "execution_count": 18,
   "id": "b248e0ba-15bd-4805-adb2-eca52035c527",
   "metadata": {},
   "outputs": [],
   "source": [
    "#Zadanie 4"
   ]
  },
  {
   "cell_type": "code",
   "execution_count": 19,
   "id": "74c33f9b-5412-400c-9468-7c2b86b62237",
   "metadata": {},
   "outputs": [],
   "source": [
    "# Reszta kwadratowa w Zp\n",
    "\n",
    "# Dane:\n",
    "# b in (Zp, *)\n",
    "# p\n",
    "\n",
    "# Wynik:\n",
    "# True / False\n",
    "\n",
    "# Procedura:\n",
    "# Jeżeli a^[(p-1)/2] (mod p) = 1, to True"
   ]
  },
  {
   "cell_type": "code",
   "execution_count": 20,
   "id": "2a92d308-3530-4e83-95ea-7015a9e76bea",
   "metadata": {},
   "outputs": [],
   "source": [
    "def reszta_kwadratowa(b, p):\n",
    "    power = p-1\n",
    "    power = power // 2\n",
    "    \n",
    "    sample = potega(b, power, p)\n",
    "    result = sample % p\n",
    "    \n",
    "    return result == 1"
   ]
  },
  {
   "cell_type": "code",
   "execution_count": 21,
   "id": "919edf15-6dac-4bab-9c45-ad25ed360408",
   "metadata": {},
   "outputs": [
    {
     "data": {
      "text/plain": [
       "False"
      ]
     },
     "execution_count": 21,
     "metadata": {},
     "output_type": "execute_result"
    }
   ],
   "source": [
    "# p = 2**(201) - 313\n",
    "# b = 3 # a z zeszytu\n",
    "\n",
    "p = 2**33 - 9\n",
    "b = 10\n",
    "\n",
    "reszta_kwadratowa(b, p)"
   ]
  },
  {
   "cell_type": "code",
   "execution_count": 22,
   "id": "02829992-2ed8-481d-934f-9f709a4425c2",
   "metadata": {},
   "outputs": [],
   "source": [
    "# ZADANIE 5 - Pierwiastek kwadratowy w Phi(p)"
   ]
  },
  {
   "cell_type": "code",
   "execution_count": 23,
   "id": "ce7cb671-9b73-44c6-a8d8-e15f9c974e23",
   "metadata": {},
   "outputs": [],
   "source": [
    "# Dane: \n",
    "# p === 3 (mod 4)\n",
    "# b in Phi(p)\n",
    "# b jest resztą kwadratową\n",
    "# \n",
    "# Wynik:\n",
    "# a in Phi(p) taki, że a^2 = b (mod p)"
   ]
  },
  {
   "cell_type": "code",
   "execution_count": 144,
   "id": "3c48d9e1-b606-4f51-9e0b-b8670f99d1ec",
   "metadata": {},
   "outputs": [],
   "source": [
    "# Zadanie:\n",
    "# +- a = b^(p+1/4) (mod p)"
   ]
  },
  {
   "cell_type": "code",
   "execution_count": 145,
   "id": "879502db-ba3a-450e-ac53-ded5cc1fee4e",
   "metadata": {},
   "outputs": [],
   "source": [
    "def phi_pierwiastek(p, b):\n",
    "    power = (p+1)//4\n",
    "    sample = potega(b, power, p)\n",
    "    print(sample)\n",
    "    \n",
    "    second_sample = -(p-sample)\n",
    "    \n",
    "    return sample, second_sample\n",
    "    \n",
    "    "
   ]
  },
  {
   "cell_type": "code",
   "execution_count": 146,
   "id": "d73d3f3d-283c-49f5-91db-b8c0de6186d8",
   "metadata": {},
   "outputs": [
    {
     "name": "stdout",
     "output_type": "stream",
     "text": [
      "2134932026\n"
     ]
    },
    {
     "data": {
      "text/plain": [
       "(2134932026, -6455002557)"
      ]
     },
     "execution_count": 146,
     "metadata": {},
     "output_type": "execute_result"
    }
   ],
   "source": [
    "# I data set\n",
    "# p=11\n",
    "# b = 4\n",
    "# # Result: (9, -2)\n",
    "\n",
    "# II data set\n",
    "p = 2**(201) - 313 #(na wejsciu zawsze bedzie liczba pierwsza dajaca reszte 3 z dzielenia przez 4)\n",
    "#3213876088517980551083924184682325205044405987565585670602439\n",
    "b = 3\n",
    "# Result: 3101948484103482126970424634806781703628882321291710380824411\n",
    "\n",
    "# III data set\n",
    "p = 2**33 - 9\n",
    "b = 10\n",
    "\n",
    "\n",
    "phi_pierwiastek(p, b)"
   ]
  },
  {
   "cell_type": "code",
   "execution_count": null,
   "id": "a7758716-8f76-4a21-96be-7579a0778d8c",
   "metadata": {},
   "outputs": [],
   "source": []
  },
  {
   "cell_type": "code",
   "execution_count": 147,
   "id": "b01d520b-5c06-41d8-9390-4f507a9dd4e7",
   "metadata": {},
   "outputs": [],
   "source": [
    "# ####################\n",
    "# MINIPROJEKT 2\n",
    "# ####################"
   ]
  },
  {
   "cell_type": "code",
   "execution_count": 148,
   "id": "6f3867c3-c9f2-4348-b328-f1ddc5609aa5",
   "metadata": {},
   "outputs": [],
   "source": [
    "# Dostępne algorytmy:\n",
    "# - Odwrotność w Phi(n)   odwrotnosc(n,b) - b^-1 w Zn\n",
    "# - Potęgowanie w Zn     potega(b, k, n) - b^k w Zn\n",
    "# - Test pierwszości liczby Test_Fermata(n, k) - n to liczba, k liczba testów\n",
    "# - Reszta kwadratowa w Zp   reszta_kwadratowa(b, p), b w Zp\n",
    "# - Pierwiastek kwadratowy w Zp   phi_pierwiastek(p, b): b w Zp"
   ]
  },
  {
   "cell_type": "code",
   "execution_count": 149,
   "id": "55bb0975-1ff1-4672-92e1-cff801ce10a6",
   "metadata": {},
   "outputs": [],
   "source": [
    "# Zadanie 1\n",
    "# Dane: p === 3 (mod 4) - duża liczba pierwsza\n",
    "# ww warunek jest ważny dla pierwiastkowania\n",
    "\n",
    "# Wynik: A, B \\in Fp takie, że E: Y^2 - X^3 + AX + B jest krzywą nad Fp\n",
    "\n",
    "# Proces:\n",
    "# 1. Wylosuj A i B\n",
    "# 2. Sprawdź warunek Delta = 4*A^3 + 27* B^2 !== 0 (mod p)\n",
    "# 3. Zwróć A i B lub powtórz, jeżeli błąd"
   ]
  },
  {
   "cell_type": "code",
   "execution_count": 150,
   "id": "baf3556e-0487-489a-b89c-2ef81dbd878e",
   "metadata": {},
   "outputs": [],
   "source": [
    "import random\n",
    "\n",
    "def krzywa_eliptyczna(p):\n",
    "    Delta = 0\n",
    "    while Delta == 0:\n",
    "        A = random.randint(0, p-1)\n",
    "        B = random.randint(0, p-1)\n",
    "        Delta = (4* pow(A, 3) + 27 * pow(B, 2)) %p\n",
    "    return A, B"
   ]
  },
  {
   "cell_type": "code",
   "execution_count": 151,
   "id": "43d62746-c7ed-42cb-abc8-c50905eea141",
   "metadata": {},
   "outputs": [
    {
     "data": {
      "text/plain": [
       "(736838673275401586, 2275251166798826845)"
      ]
     },
     "execution_count": 151,
     "metadata": {},
     "output_type": "execute_result"
    }
   ],
   "source": [
    "krzywa_eliptyczna(2**(61)-1)"
   ]
  },
  {
   "cell_type": "code",
   "execution_count": 152,
   "id": "447cf6f3-3cde-4785-870a-dad7b826220e",
   "metadata": {},
   "outputs": [],
   "source": [
    "# Zadanie 2\n",
    "# \n",
    "# Dane: A, B, p,\n",
    "# \n",
    "# Wynik: P = (x,y) \\in E(Fp)\n",
    "\n",
    "# Proces:\n",
    "# 1. Wylosuj x\n",
    "# 2. Sprawdź, czy da się ładnie spierwiastkować\n",
    "# 3. Dolicz Y pod ten X\n",
    "# 4. Radość :)"
   ]
  },
  {
   "cell_type": "code",
   "execution_count": 153,
   "id": "59d281fe-b236-4214-af3e-eeed77598858",
   "metadata": {},
   "outputs": [],
   "source": [
    "import random\n",
    "\n",
    "def E_punkt(A, B, p):\n",
    "    Y_sqrt = 0\n",
    "    \n",
    "    while (reszta_kwadratowa(Y_sqrt, p) != 1):\n",
    "        X = random.randint(0, p-1)\n",
    "        Y_sqrt = pow(X, 3) + A*X + B\n",
    "    \n",
    "    Y = phi_pierwiastek(p, Y_sqrt)\n",
    "    \n",
    "    return X, Y"
   ]
  },
  {
   "cell_type": "code",
   "execution_count": 154,
   "id": "b2a6315d-79d6-4aca-80d6-af1b12820c37",
   "metadata": {},
   "outputs": [
    {
     "name": "stdout",
     "output_type": "stream",
     "text": [
      "12\n",
      "result:  (2, (12, -1))\n"
     ]
    }
   ],
   "source": [
    "# p = 2**(61)-1\n",
    "p = 13\n",
    "\n",
    "A, B = krzywa_eliptyczna(p)\n",
    "\n",
    "result = E_punkt(A, B, p)\n",
    "\n",
    "print('result: ', result)"
   ]
  },
  {
   "cell_type": "code",
   "execution_count": 155,
   "id": "222b5c1a-6398-4367-9637-07005e87a784",
   "metadata": {},
   "outputs": [],
   "source": [
    "# Zadanie 3\n",
    "\n",
    "# Dane:\n",
    "# P = (x, y) \\in E(Fp)\n",
    "\n",
    "# Wynik:\n",
    "# -P"
   ]
  },
  {
   "cell_type": "code",
   "execution_count": 156,
   "id": "24a76005-a868-41b0-8efb-f7cfd2375b09",
   "metadata": {},
   "outputs": [],
   "source": [
    "def minus_P(x, y, p):\n",
    "    if(x != inf):\n",
    "        minus_x = x\n",
    "        minus_y = p - y \n",
    "    else:\n",
    "        minus_x = inf\n",
    "        minus_y = inf\n",
    "        \n",
    "    return minus_x, minus_y\n",
    "    \n",
    "    "
   ]
  },
  {
   "cell_type": "code",
   "execution_count": 157,
   "id": "6d372b87-4f83-4b57-873e-e0c4df30aead",
   "metadata": {},
   "outputs": [],
   "source": [
    "# Zadanie 4\n",
    "# P (+) Q suma punktów na krzywej\n",
    "\n",
    "# Dane:\n",
    "# P = (x_p, y_p)\n",
    "# Q = (x_q, y_q)\n",
    "# E = x^3 + A * X - B\n",
    "\n",
    "# Wynik:\n",
    "# R = P (+) Q"
   ]
  },
  {
   "cell_type": "code",
   "execution_count": 158,
   "id": "4bba749b-3019-408e-bc62-136473beaf5d",
   "metadata": {},
   "outputs": [],
   "source": [
    "def E_suma(x1, y1, x2, y2, A, p):\n",
    "    x3 = 0\n",
    "    y3 = 0\n",
    "    \n",
    "    if x1 == y1 == \"inf\":\n",
    "        x3 = x2\n",
    "        y3 = y2\n",
    "    elif x2 == y2 == \"inf\":\n",
    "        x3 = x1\n",
    "        y3 = y1\n",
    "    else:\n",
    "        if x1 == x2 and y1 == p - y2:\n",
    "            x3 = \"inf\"\n",
    "            y3 = \"inf\"\n",
    "\n",
    "        elif x1 == x2:\n",
    "            lam = ((3 * x1**2 + A) * odwrotnosc(p, 2 * y1)) %p\n",
    "            x3 = (lam**2 - 2*x1) %p\n",
    "            y3 = (lam*(x1-x3) - y1) %p\n",
    "        else:\n",
    "            x_diff = (x2 - x1) %p\n",
    "            y_diff = (y2 - y1) %p\n",
    "            \n",
    "            x_diff_neg = odwrotnosc(p, x_diff)\n",
    "            \n",
    "            lam = (y_diff * x_diff_neg) %p\n",
    "            \n",
    "            x3 = (lam**2 - x1 - x2) %p\n",
    "            y3 = (lam*(x1 - x3) - y1) %p\n",
    "        \n",
    "    return x3, y3"
   ]
  },
  {
   "cell_type": "code",
   "execution_count": 159,
   "id": "a19e031f-3458-4aa2-9334-190fd077ea59",
   "metadata": {},
   "outputs": [
    {
     "name": "stdout",
     "output_type": "stream",
     "text": [
      "(1163384116890210657, 235038158966642621)\n"
     ]
    }
   ],
   "source": [
    "# Przykład 1:\n",
    "# Wejście:\n",
    "p = 2**(61)-1 \n",
    "# (liczba pierwsza na wejściu przystaje do 3 mod 4)\n",
    "A = 1935072046176410822\n",
    "B = 1695467866892378499\n",
    "\n",
    "x1=831303506332858457\n",
    "y1=1963566047668949528\n",
    "\n",
    "x2=1376765752670549007\n",
    "y2=1337071379103857863\n",
    "\n",
    "# Wyjście:\n",
    "x3 = 1163384116890210657\n",
    "y3 = 235038158966642621\n",
    "\n",
    "\n",
    "result_x, result_y = E_suma(x1, y1, x2, y2, A, p)\n",
    "\n",
    "print((result_x, result_y))"
   ]
  },
  {
   "cell_type": "code",
   "execution_count": 160,
   "id": "31c45200-bda4-4dab-94f1-aa170d7b84cf",
   "metadata": {},
   "outputs": [
    {
     "name": "stdout",
     "output_type": "stream",
     "text": [
      "('inf', 'inf')\n"
     ]
    }
   ],
   "source": [
    "# Przykład 2:\n",
    "p = 2**(61)-1 \n",
    "# (liczba pierwsza na wejściu przystaje do 3 mod 4)\n",
    "A = 1935072046176410822\n",
    "B = 1695467866892378499\n",
    "x1=831303506332858457 \n",
    "y1=1963566047668949528\n",
    "x2=831303506332858457\n",
    "y2=342276961544744423\n",
    "\n",
    "# Wyjście:\n",
    "x3 = \"inf\"\n",
    "y3 = \"inf\"\n",
    "\n",
    "\n",
    "result_x, result_y = E_suma(x1, y1, x2, y2, A, p)\n",
    "\n",
    "print((result_x, result_y))"
   ]
  },
  {
   "cell_type": "code",
   "execution_count": 161,
   "id": "4f6f6ebe-b62e-44f3-a75d-a2e4c48bfab2",
   "metadata": {},
   "outputs": [
    {
     "name": "stdout",
     "output_type": "stream",
     "text": [
      "(2073863756213719265, 1011723321876000875)\n"
     ]
    }
   ],
   "source": [
    "# Przykład 3:\n",
    "# Wejście:\n",
    "p = 2**(61)-1 \n",
    "# (liczba pierwsza na wejściu przystaje do 3 mod 4)\n",
    "A = 1935072046176410822\n",
    "B = 1695467866892378499\n",
    "x1 = 831303506332858457 \n",
    "y1 = 1963566047668949528\n",
    "x2 = 831303506332858457 \n",
    "y2 = 1963566047668949528\n",
    "# Wyjście:\n",
    "x3 = 2073863756213719265\n",
    "y3 = 1011723321876000875\n",
    "\n",
    "\n",
    "result_x, result_y = E_suma(x1, y1, x2, y2, A, p)\n",
    "\n",
    "print((result_x, result_y))"
   ]
  },
  {
   "cell_type": "code",
   "execution_count": 162,
   "id": "d9622fc2-e72a-4d52-80b0-3e4fe1347f2d",
   "metadata": {},
   "outputs": [
    {
     "name": "stdout",
     "output_type": "stream",
     "text": [
      "(831303506332858457, 1963566047668949528)\n"
     ]
    }
   ],
   "source": [
    "# Przykład 4:\n",
    "# Wejście:\n",
    "p = 2**(61)-1 \n",
    "# (liczba pierwsza na wejściu przystaje do 3 mod 4)\n",
    "A = 1935072046176410822\n",
    "B = 1695467866892378499\n",
    "x1 = \"inf\"\n",
    "y1 = \"inf\"\n",
    "x2 = 831303506332858457 \n",
    "y2 = 1963566047668949528\n",
    "\n",
    "# Wyjście:\n",
    "x3 = 831303506332858457 \n",
    "y3 = 1963566047668949528\n",
    "\n",
    "\n",
    "result_x, result_y = E_suma(x1, y1, x2, y2, A, p)\n",
    "\n",
    "print((result_x, result_y))"
   ]
  },
  {
   "cell_type": "code",
   "execution_count": 163,
   "id": "d7a5af9a-ab3a-43af-8590-aea3f3902ae1",
   "metadata": {},
   "outputs": [],
   "source": [
    "# Zadanie 5\n",
    "# nP - n-ta wielokrotność punktu P na krzywej\n",
    "\n",
    "# Dane:\n",
    "# n \\in N                        - wielokrotność\n",
    "# P = (x_p, y_p), P \\in E(Fp)    - punkt na krzywej\n",
    "\n",
    "# Wynik:\n",
    "# Q = nP, Q \\in E(Fp)"
   ]
  },
  {
   "cell_type": "code",
   "execution_count": 164,
   "id": "e34a21f9-1981-4bb4-b616-686f4a6c31aa",
   "metadata": {},
   "outputs": [],
   "source": [
    "# Procedura:\n",
    "# 1. Zapisujemy n binarnie\n",
    "# 2. Liczymy "
   ]
  },
  {
   "cell_type": "code",
   "execution_count": 165,
   "id": "96328e1b-fad9-489e-874a-801c306b28d2",
   "metadata": {},
   "outputs": [],
   "source": [
    "def E_wielokrotnosc(x, y, n, A, p):\n",
    "    n_tab, n_len = zapis_binarny(n)\n",
    "    \n",
    "    x_curr = x\n",
    "    y_curr = y\n",
    "    result_x = \"inf\"\n",
    "    result_y = \"inf\"\n",
    "    \n",
    "    for i in range(0, n_len):\n",
    "        \n",
    "        # Jeżeli trzeba dodać, do sumy, dodaj do sumy - \"Dodaj\" dodawaniem punktów na krzywej \n",
    "        if int(n_tab[i]) == 1:\n",
    "            result_x, result_y = E_suma( x_curr, y_curr, result_x, result_y, A, p)\n",
    "        \n",
    "        # Pomnóż razy dwa\n",
    "        x_curr, y_curr = E_suma(x_curr, y_curr, x_curr, y_curr, A, p)\n",
    "        \n",
    "    return result_x, result_y"
   ]
  },
  {
   "cell_type": "code",
   "execution_count": 166,
   "id": "5b455ac9-6188-4b9e-a14f-75f733b7c6de",
   "metadata": {},
   "outputs": [
    {
     "name": "stdout",
     "output_type": "stream",
     "text": [
      "(2211296188191429946, 1045997847933357925)\n"
     ]
    }
   ],
   "source": [
    "# Przykład 1\n",
    "# Wejście:\n",
    "p = 2**61-1\n",
    "A = 1935072046176410822\n",
    "B = 1695467866892378499\n",
    "x1 = 831303506332858457 \n",
    "y1 = 1963566047668949528\n",
    "n = 2**16+5\n",
    "\n",
    "# Wyjście:\n",
    "x2 = 2211296188191429946\n",
    "y2 = 1045997847933357925\n",
    "\n",
    "result_x, result_y = E_wielokrotnosc(x1, y1, n, A, p)\n",
    "print((result_x, result_y))"
   ]
  },
  {
   "cell_type": "code",
   "execution_count": 167,
   "id": "cddd56f2-2696-441d-b3e1-fe4b0c8f74d9",
   "metadata": {},
   "outputs": [
    {
     "name": "stdout",
     "output_type": "stream",
     "text": [
      "(143322577979598003511228643546145455615120294733828142499775294743050616667067002013682709, 135854963451325646251334252904487305384372563565819613929382939676835187454705027245421441)\n"
     ]
    }
   ],
   "source": [
    "# Przykład 2:\n",
    "# Wejście:\n",
    "p = 2**(297)-285 #(liczba pierwsza na wejściu przystaje do 3 mod 4)\n",
    "\n",
    "A = 12444294553580413309261690068074902197491116730730148566639545894744246709929621325173395\n",
    "B = 84392518890582039404267377489450873639534503950959442291224326041747596054960509300406339\n",
    "\n",
    "x1 = 62879858904779613999710318830676706809314870827467974421140720563100203290425093563934657\n",
    "y1 = 149817366140562266110553419586998052533831523439414441562530978574083437163330386770868728\n",
    "\n",
    "n = 2**(199)-317\n",
    "\n",
    "# Wyjście:\n",
    "x2 = 143322577979598003511228643546145455615120294733828142499775294743050616667067002013682709\n",
    "y2 = 135854963451325646251334252904487305384372563565819613929382939676835187454705027245421441\n",
    "\n",
    "result_x, result_y = E_wielokrotnosc(x1, y1, n, A, p)\n",
    "print((result_x, result_y))"
   ]
  },
  {
   "cell_type": "code",
   "execution_count": null,
   "id": "f6697ece-07a5-4883-8303-1873c9a0ab4d",
   "metadata": {},
   "outputs": [],
   "source": []
  },
  {
   "cell_type": "code",
   "execution_count": null,
   "id": "0a264cca-67dd-4fb3-94bc-6e40d616b572",
   "metadata": {},
   "outputs": [],
   "source": []
  }
 ],
 "metadata": {
  "kernelspec": {
   "display_name": "Python 3 (ipykernel)",
   "language": "python",
   "name": "python3"
  },
  "language_info": {
   "codemirror_mode": {
    "name": "ipython",
    "version": 3
   },
   "file_extension": ".py",
   "mimetype": "text/x-python",
   "name": "python",
   "nbconvert_exporter": "python",
   "pygments_lexer": "ipython3",
   "version": "3.9.2"
  }
 },
 "nbformat": 4,
 "nbformat_minor": 5
}
