{
 "cells": [
  {
   "cell_type": "code",
   "execution_count": null,
   "id": "b4fbf95b-5d51-49aa-9ec3-896fe1cf8602",
   "metadata": {},
   "outputs": [],
   "source": [
    "# Zadanie 1 - Z"
   ]
  }
 ],
 "metadata": {
  "kernelspec": {
   "display_name": "Python 3 (ipykernel)",
   "language": "python",
   "name": "python3"
  },
  "language_info": {
   "codemirror_mode": {
    "name": "ipython",
    "version": 3
   },
   "file_extension": ".py",
   "mimetype": "text/x-python",
   "name": "python",
   "nbconvert_exporter": "python",
   "pygments_lexer": "ipython3",
   "version": "3.9.2"
  }
 },
 "nbformat": 4,
 "nbformat_minor": 5
}
